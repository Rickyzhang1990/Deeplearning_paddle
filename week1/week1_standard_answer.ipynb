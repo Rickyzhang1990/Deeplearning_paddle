{
 "cells": [
  {
   "cell_type": "markdown",
   "metadata": {},
   "source": [
    "# PaddleCamp - 第二期\n",
    "\n",
    "## 第一周 - 作业参考答案"
   ]
  },
  {
   "cell_type": "markdown",
   "metadata": {},
   "source": [
    "\n",
    "### 第一次作业\n",
    "\n",
    "该部分作业共 **1** 部分：\n",
    "\n",
    "----\n",
    "\n",
    "* 客观题**参考答案**：\n",
    "\n",
    "1.\t人工神经元内部运算包含哪两个部分：\n",
    "A.非线性变换和激活变换  **B.线性变换和非线性变换**  C.向量变换和标量变换  D.化学变换和电变换\n",
    "\n",
    "2.\t人工神经网络与生物神经网络的关系：\n",
    "A.完全拷贝  B.一点点关系都没有  **C.人工神经网络受生物神经网络启发**  D. 同一事物的两个名称\n",
    "\n",
    "3.\t深度学习系统训练过程通常需要输入：\n",
    "A.特征值  B.标签  **C.特征值和标签**  D. 预测值\n",
    "\n",
    "\n",
    "4.\t“每个神经元都和下一层的所有神经元相连”的神经网络是：\n",
    "A.卷积神经网络  B.大规模神经网络  C.循环神经网络  **D. 全连接神经网络**\n",
    "\n",
    "\n",
    "5.\t深度神经网络的运行过程是由三个算法依次运行组成，下面不属于这三个算法中的是：\n",
    "**A.归一化**  B.正向传播  C.反向传播  D.梯度下降\n",
    "\n",
    "6.\t下面不是超参数的是：\n",
    "**A.权重和偏置**  B.学习率  C.mini-batch的大小  D.网络结构\n",
    "\n",
    "7.\t不属于常见激活：\n",
    "A.sigmoid  B.Relu  **C.NMS**  D.Tanh\n",
    "\n",
    "8.\t属于常见损失函数：\n",
    "A.计算预测值函数  B.求偏导数函数  **C.均方误差损失函数**  D.更新参数函数\n",
    "\n",
    "9.\t关于梯度下降算法描述正确的是：\n",
    "**A.梯度下降算法就是不断的更新 w和b 的值**  \n",
    "B.梯度下降算法就是不断的更新 w和b 的导数值  \n",
    "C.梯度下降算法就是不断寻找损失函数的最大值\n",
    "D.梯度下降算法就是不断更新学习率\n",
    "\n",
    "10.\t关于学习率的描述正确的是：\n",
    "A.学习率和 w、b 一样是参数，是系统自己学习得到的  \n",
    "B.学习率越大系统运行速度越快  \n",
    "C.学习率越小系统一定精度越高\n",
    "**D.学习率的大小是根据不同场景程序员自己设定的，不宜太大或者太小**\n",
    "\n",
    "----"
   ]
  },
  {
   "cell_type": "markdown",
   "metadata": {},
   "source": [
    "\n",
    "### 第二次作业\n",
    "\n",
    "该部分作业共 **2** 部分：\n",
    "\n",
    "-----\n",
    "\n",
    "* 客观题**参考答案**：\n",
    "\n",
    "1.\t下面不属于深度学习开发框架的是：\n",
    "A.TensorFlow  B.Pytorch  **C.AI-Studio**  D.PaddlePaddle \n",
    "\n",
    "2.\t关于PaddlePaddle描述不正确的是：\n",
    "A.PaddlePaddle 是开源的  \n",
    "B.PaddlePaddle 是自主开发的  \n",
    "**C.PaddlePaddle 仅仅是对其他框架做了包装**  \n",
    "D.PaddlePaddle 是深度学习开发框架 \n",
    "\n",
    "3.\t以下任务不适合使用 PaddlePaddle 的是：\n",
    "**A.5G网络通信任务**  B.目标检测任务  C.情感分类任务  D. 推荐系统任务\n",
    "\n",
    "\n",
    "4.\t以下不属于 PaddlePaddle 特点的是：\n",
    "A.在github上代码开源  B.支持分布式系统  C.支持多卡并行运行  **D.不支持移动端设备** \n",
    "\n",
    "5.\tPaddlePaddle代码不包括以下哪个部分：\n",
    "**A.从网上爬取数据**  B.参数初始化  C.训练过程  D.预测过程\n",
    "\n",
    "6.\t双层 For 循环的外层循环的作用是：\n",
    "**A.决定训练的轮数**  B.设置学习率  C.决定mini-batch的大小  D.决定网络结构\n",
    "\n",
    "7.\t以下代码用来创建一个数据输入层的是：\n",
    "**A.  x = fluid.layers.data(name='x', shape=[8], dtype='float32')**\n",
    "B.  y_predict = fluid.layers.fc(input=x, size=1, act=None)\n",
    "C.  loss = fluid.layers.square_error_cost(input=y_predict, label=y)\n",
    "D.  exe.run( fluid.default_startup_program() )\n",
    "\n",
    "8.\t关于 AI-Studio的描述正确的是：\n",
    "A. AI-Studio是一个深度学习开发框架  \n",
    "B. AI-Studio需要在本地电脑安装客户端  \n",
    "C. AI-Studio不支持GPU运行  \n",
    "**D. AI-Studio是在线编程平台**\n",
    "\n",
    "9.\t程序员拿到数据集后通常要把数据集进行划分，划分好的数据集用来做训练与预测，那么一般划分方式为：\n",
    "A.划分为正例与负例  \n",
    "**B.划分为训练集与预测集**  \n",
    "C.划分为可用数据与不可用数据 \n",
    "D.划分为大数据集与小数据集 \n",
    "\n",
    "10.\t以下不是做数据归一化的原因的是：\n",
    "A.过大或过小的数值范围会导致计算时的浮点上溢或下溢  \n",
    "B.去掉不同维度的数据因为数据取值范围大小不同而对系统产生的影响  \n",
    "C.某机器学习的技巧的前提假设就是数据已经经历过了数据归一化 \n",
    "**D.输入的数据必须符合均值为0，方差为1**\n",
    "\n",
    "----"
   ]
  },
  {
   "cell_type": "markdown",
   "metadata": {},
   "source": [
    "* 代码填空题**参考答案**：\n",
    "\n",
    "----"
   ]
  },
  {
   "cell_type": "code",
   "execution_count": 11,
   "metadata": {
    "collapsed": false
   },
   "outputs": [
    {
     "name": "stdout",
     "output_type": "stream",
     "text": [
      "Archive:  data/data9911/data_images.zip\r\n",
      "  inflating: data_images/datasets/data.txt  \r\n",
      "  inflating: data_images/images/.png  \r\n",
      "  inflating: data_images/images/FC.png  \r\n",
      "  inflating: data_images/images/ML_process.png  \r\n",
      "  inflating: data_images/images/gradient_descent.png  \r\n",
      "  inflating: data_images/images/plt.png  \r\n",
      "  inflating: data_images/images/result.png  \r\n"
     ]
    }
   ],
   "source": [
    "#因为本次实验除了代码还有许多知识点讲解。\r\n",
    "#知识点是以markdown形式展现的，含有许多图片。\r\n",
    "#运行完这条命令，并刷新一下本页面，本实验中的图片就可以展现出来了。\r\n",
    "#这条命令只需要运行一遍就可以了。\r\n",
    "!DATA_PATH=data/data9911/ && NEW_NAME=$(find -name *[0-9].ipynb) && NEW_NAME=${NEW_NAME%.*} && NEW_NAME=${NEW_NAME#./} && unzip -o ${DATA_PATH}data_images.zip  && cp -rf data_images/. ."
   ]
  },
  {
   "cell_type": "code",
   "execution_count": 12,
   "metadata": {
    "collapsed": false
   },
   "outputs": [
    {
     "name": "stdout",
     "output_type": "stream",
     "text": [
      "the raw area : 199.96\n",
      "normalization: 0.6587568635148239\n"
     ]
    }
   ],
   "source": [
    "\r\n",
    "from __future__ import print_function\r\n",
    "import numpy as np\r\n",
    "import matplotlib.pyplot as plt\r\n",
    "import pandas as pd\r\n",
    "import paddle\r\n",
    "import paddle.fluid as fluid\r\n",
    "\r\n",
    "import math\r\n",
    "import sys\r\n",
    "\r\n",
    "# coding = utf-8 #\r\n",
    "global x_raw,train_data,test_data\r\n",
    "data = np.loadtxt('./datasets/data.txt',delimiter = ',')\r\n",
    "x_raw = data.T[0].copy() \r\n",
    "\r\n",
    "#axis=0,表示按列计算\r\n",
    "#data.shape[0]表示data中一共有多少列\r\n",
    "maximums, minimums, avgs = data.max(axis=0), data.min(axis=0), data.sum(axis=0)/data.shape[0]\r\n",
    "print(\"the raw area :\",data[:,0].max(axis = 0))\r\n",
    "\r\n",
    "#归一化，data[:,i]表示第i列的元素\r\n",
    "\r\n",
    "### START CODE HERE ### (≈ 3 lines of code)\r\n",
    "\r\n",
    "feature_num = 2\r\n",
    "for i in range(feature_num-1):\r\n",
    "    data[:,i] = (data[:,i]-avgs[i])/(maximums[i]-minimums[i])\r\n",
    "    \r\n",
    "### END CODE HERE ###\r\n",
    "\r\n",
    "print('normalization:',data[:,0].max(axis = 0))"
   ]
  },
  {
   "cell_type": "code",
   "execution_count": 13,
   "metadata": {
    "collapsed": false
   },
   "outputs": [
    {
     "name": "stdout",
     "output_type": "stream",
     "text": [
      "870\n",
      "696\n"
     ]
    }
   ],
   "source": [
    "ratio = 0.8\r\n",
    "offset = int(data.shape[0]*ratio)\r\n",
    "\r\n",
    "### START CODE HERE ### (≈ 2 lines of code)\r\n",
    "\r\n",
    "train_data = data[:offset].copy()\r\n",
    "test_data = data[offset:].copy()\r\n",
    "\r\n",
    "### END CODE HERE ###\r\n",
    "\r\n",
    "print(len(data))\r\n",
    "print(len(train_data))"
   ]
  },
  {
   "cell_type": "code",
   "execution_count": 14,
   "metadata": {
    "collapsed": false
   },
   "outputs": [
    {
     "name": "stdout",
     "output_type": "stream",
     "text": [
      "test_array for read_data:\n",
      "([10], [100])\n",
      "([20], [200])\n"
     ]
    }
   ],
   "source": [
    "def read_data(data_set):\r\n",
    "    \"\"\"\r\n",
    "    一个reader\r\n",
    "    Args：\r\n",
    "        data_set -- 要获取的数据集\r\n",
    "    Return：\r\n",
    "        reader -- 用于获取训练集及其标签的生成器generator\r\n",
    "    \"\"\"\r\n",
    "    def reader():\r\n",
    "        \"\"\"\r\n",
    "        一个reader\r\n",
    "        Args：\r\n",
    "        Return：\r\n",
    "            data[:-1],data[-1:] --使用yield返回生成器\r\n",
    "                data[:-1]表示前n-1个元素，也就是训练数据，\r\n",
    "                data[-1:]表示最后一个元素，也就是对应的标签\r\n",
    "        \"\"\"\r\n",
    "        for data in data_set:\r\n",
    "            yield data[:-1],data[-1:]\r\n",
    "    return reader\r\n",
    "    \r\n",
    "    \r\n",
    "#测试reader\r\n",
    "test_array = ([10,100],[20,200])\r\n",
    "print(\"test_array for read_data:\")\r\n",
    "for value in read_data(test_array)():\r\n",
    "    print(value)"
   ]
  },
  {
   "cell_type": "code",
   "execution_count": 15,
   "metadata": {
    "collapsed": false
   },
   "outputs": [],
   "source": [
    "BATCH_SIZE = 1000\r\n",
    "\r\n",
    "# 设置训练reader\r\n",
    "train_reader = paddle.batch(\r\n",
    "    paddle.reader.shuffle(\r\n",
    "        read_data(train_data), \r\n",
    "        buf_size=700),\r\n",
    "    batch_size=BATCH_SIZE)\r\n",
    "\r\n",
    "#设置测试 reader\r\n",
    "test_reader = paddle.batch(\r\n",
    "    paddle.reader.shuffle(\r\n",
    "        read_data(test_data), \r\n",
    "        buf_size=500),\r\n",
    "    batch_size=BATCH_SIZE)\r\n",
    "    \r\n",
    "\r\n",
    "#使用CPU或者GPU训练\r\n",
    "use_cuda = False\r\n",
    "place = fluid.CUDAPlace(0) if use_cuda else fluid.CPUPlace() "
   ]
  },
  {
   "cell_type": "code",
   "execution_count": 16,
   "metadata": {
    "collapsed": false
   },
   "outputs": [
    {
     "name": "stdout",
     "output_type": "stream",
     "text": [
      "optimizer is ready\n"
     ]
    }
   ],
   "source": [
    "# 输入层，fluid.layers.data表示数据层,name=’x’：名称为x,输出类型为tensor\r\n",
    "# shape=[1]:数据为1维向量\r\n",
    "# dtype='float32'：数据类型为float32\r\n",
    "### START CODE HERE ### (≈ 1 lines of code)\r\n",
    "x = fluid.layers.data(name='x', shape=[1], dtype='float32')\r\n",
    "### END CODE HERE ###\r\n",
    "\r\n",
    "# 标签数据，fluid.layers.data表示数据层,name=’y’：名称为y,输出类型为tensor\r\n",
    "# shape=[1]:数据为1维向量\r\n",
    "### START CODE HERE ### (≈ 1 lines of code)\r\n",
    "y = fluid.layers.data(name='y', shape=[1], dtype='float32')\r\n",
    "### END CODE HERE ###\r\n",
    "\r\n",
    "# 输出层，fluid.layers.fc表示全连接层，input=x: 该层输入数据为x\r\n",
    "# size=1：神经元个数，act=None：激活函数为线性函数\r\n",
    "y_predict = fluid.layers.fc(input=x, size=1, act=None, bias_attr=True)\r\n",
    "\r\n",
    "# 定义损失函数为均方差损失函数,并且求平均损失，返回值名称为avg_loss\r\n",
    "### START CODE HERE ### (≈ 2 lines of code)\r\n",
    "loss = fluid.layers.square_error_cost(input=y_predict, label=y)\r\n",
    "avg_loss = fluid.layers.mean(loss)\r\n",
    "### END CODE HERE ###\r\n",
    "\r\n",
    "# 定义执行器(参数随机初始化):\r\n",
    "exe = fluid.Executor(place)\r\n",
    "\r\n",
    "# 配置训练程序:\r\n",
    "main_program = fluid.default_main_program() # 获取默认/全局主函数\r\n",
    "startup_program = fluid.default_startup_program() # 获取默认/全局启动程序\r\n",
    "\r\n",
    "#克隆main_program得到test_program\r\n",
    "#有些operator在训练和测试之间的操作是不同的，例如batch_norm，使用参数for_test来区分该程序是用来训练还是用来测试\r\n",
    "#该api不会删除任何操作符,请在backward和optimization之前使用\r\n",
    "test_program = main_program.clone(for_test=True)\r\n",
    "\r\n",
    "# 创建optimizer，更多优化算子可以参考 fluid.optimizer()\r\n",
    "learning_rate = 0.001\r\n",
    "sgd_optimizer = fluid.optimizer.SGD(learning_rate)\r\n",
    "# sgd_optimizer = fluid.optimizer.Adam(learning_rate)\r\n",
    "sgd_optimizer.minimize(avg_loss)\r\n",
    "print(\"optimizer is ready\")"
   ]
  },
  {
   "cell_type": "code",
   "execution_count": 17,
   "metadata": {
    "collapsed": false
   },
   "outputs": [
    {
     "data": {
      "image/png": "[encoded data removed]",
      "text/plain": [
       "<Figure size 432x288 with 1 Axes>"
      ]
     },
     "metadata": {},
     "output_type": "display_data"
    },
    {
     "data": {
      "image/png": "[encoded data removed]",
      "text/plain": [
       "<Figure size 432x288 with 1 Axes>"
      ]
     },
     "metadata": {},
     "output_type": "display_data"
    },
    {
     "name": "stdout",
     "output_type": "stream",
     "text": [
      "Test cost, Step 0, Cost 449946.468750\n",
      "Test cost, Step 100, Cost 326451.968750\n",
      "Test cost, Step 200, Cost 243213.375000\n",
      "Test cost, Step 300, Cost 186993.062500\n",
      "Test cost, Step 400, Cost 148912.781250\n",
      "Test cost, Step 500, Cost 123017.054688\n",
      "Test cost, Step 600, Cost 105310.296875\n",
      "Test cost, Step 700, Cost 93110.945312\n",
      "Test cost, Step 800, Cost 84618.828125\n",
      "Test cost, Step 900, Cost 78625.203125\n",
      "Test cost, Step 1000, Cost 74317.867188\n",
      "Test cost, Step 1100, Cost 71151.031250\n",
      "Test cost, Step 1300, Cost 66890.203125\n",
      "Test cost, Step 1400, Cost 65382.695312\n",
      "Test cost, Step 1500, Cost 64122.765625\n",
      "Test cost, Step 1600, Cost 63034.613281\n",
      "Test cost, Step 1700, Cost 62067.035156\n",
      "Test cost, Step 1800, Cost 61185.308594\n",
      "Test cost, Step 1900, Cost 60365.886719\n",
      "Test cost, Step 2000, Cost 59592.695312\n",
      "Test cost, Step 2100, Cost 58854.804688\n",
      "Test cost, Step 2200, Cost 58144.671875\n",
      "Test cost, Step 2300, Cost 57457.074219\n",
      "Test cost, Step 2400, Cost 56788.406250\n",
      "Test cost, Step 2500, Cost 56136.160156\n",
      "Test cost, Step 2600, Cost 55498.496094\n",
      "Test cost, Step 2700, Cost 54874.136719\n",
      "Test cost, Step 2800, Cost 54262.125000\n",
      "Test cost, Step 2900, Cost 53661.734375\n",
      "Test cost, Step 3000, Cost 53072.429688\n",
      "Test cost, Step 3100, Cost 52493.789062\n",
      "Test cost, Step 3200, Cost 51925.406250\n",
      "Test cost, Step 3300, Cost 51367.050781\n",
      "Test cost, Step 3400, Cost 50818.425781\n",
      "Test cost, Step 3500, Cost 50279.308594\n",
      "Test cost, Step 3600, Cost 49749.515625\n",
      "Test cost, Step 3700, Cost 49228.843750\n",
      "Test cost, Step 3800, Cost 48717.125000\n",
      "Test cost, Step 3900, Cost 48214.183594\n",
      "Test cost, Step 4000, Cost 47719.863281\n",
      "Test cost, Step 4100, Cost 47234.015625\n",
      "Test cost, Step 4200, Cost 46756.484375\n",
      "Test cost, Step 4300, Cost 46287.125000\n",
      "Test cost, Step 4400, Cost 45825.816406\n",
      "Test cost, Step 4500, Cost 45372.398438\n",
      "Test cost, Step 4600, Cost 44926.746094\n",
      "Test cost, Step 4700, Cost 44488.726562\n",
      "Test cost, Step 4800, Cost 44058.199219\n",
      "Test cost, Step 4900, Cost 43635.058594\n"
     ]
    },
    {
     "data": {
      "text/plain": [
       "<Figure size 432x288 with 0 Axes>"
      ]
     },
     "metadata": {},
     "output_type": "display_data"
    }
   ],
   "source": [
    "# For training test cost\r\n",
    "def train_test(executor, program, reader, feeder, fetch_list):\r\n",
    "    accumulated = 1 * [0]\r\n",
    "    count = 0\r\n",
    "    for data_test in reader():\r\n",
    "        outs = executor.run(\r\n",
    "            program=program, feed=feeder.feed(data_test), fetch_list=fetch_list)\r\n",
    "        accumulated = [x_c[0] + x_c[1][0] for x_c in zip(accumulated, outs)]  # 累加测试过程中的损失值\r\n",
    "        count += 1 # 累加测试集中的样本数量\r\n",
    "    return [x_d / count for x_d in accumulated] # 计算平均损失\r\n",
    "\r\n",
    "# 定义模型保存路径：\r\n",
    "#params_dirname用于定义模型保存路径。\r\n",
    "params_dirname = \"easy_fit_a_line.inference.model\"\r\n",
    "\r\n",
    "#用于画图展示训练cost\r\n",
    "from paddle.utils.plot import Ploter\r\n",
    "train_prompt = \"Train cost\"\r\n",
    "test_prompt = \"Test cost\"\r\n",
    "plot_prompt = Ploter(train_prompt, test_prompt)\r\n",
    "step = 0\r\n",
    "\r\n",
    "# 训练主循环\r\n",
    "feeder = fluid.DataFeeder(place=place, feed_list=[x, y])\r\n",
    "exe.run(startup_program)\r\n",
    "\r\n",
    "exe_test = fluid.Executor(place)\r\n",
    "\r\n",
    "#num_epochs=100表示迭代训练100次后停止训练。\r\n",
    "num_epochs = 5000\r\n",
    "\r\n",
    "for pass_id in range(num_epochs):\r\n",
    "    for data_train in train_reader():\r\n",
    "        avg_loss_value, = exe.run(main_program,\r\n",
    "                                  feed=feeder.feed(data_train),\r\n",
    "                                  fetch_list=[avg_loss])\r\n",
    "        if step % 10 == 0:  # 每10个批次记录并输出一下训练损失\r\n",
    "            plot_prompt.append(train_prompt, step, avg_loss_value[0])\r\n",
    "            plot_prompt.plot()\r\n",
    "            #print(\"%s, Step %d, Cost %f\" %(train_prompt, step, avg_loss_value[0]))\r\n",
    "        if step % 100 == 0:  # 每100批次记录并输出一下测试损失\r\n",
    "            test_metics = train_test(executor=exe_test,\r\n",
    "                                     program=test_program,\r\n",
    "                                     reader=test_reader,\r\n",
    "                                     fetch_list=[avg_loss.name],\r\n",
    "                                     feeder=feeder)\r\n",
    "            plot_prompt.append(test_prompt, step, test_metics[0])\r\n",
    "            plot_prompt.plot()\r\n",
    "            print(\"%s, Step %d, Cost %f\" %(test_prompt, step, test_metics[0]))\r\n",
    "    \r\n",
    "            if test_metics[0] < 10.0: # 如果准确率达到要求，则停止训练\r\n",
    "                break\r\n",
    "\r\n",
    "        step += 1\r\n",
    "\r\n",
    "        if math.isnan(float(avg_loss_value[0])):\r\n",
    "            sys.exit(\"got NaN loss, training failed.\")\r\n",
    "\r\n",
    "        #保存训练参数到之前给定的路径中\r\n",
    "        if params_dirname is not None:\r\n",
    "            fluid.io.save_inference_model(params_dirname, ['x'], [y_predict], exe)"
   ]
  },
  {
   "cell_type": "code",
   "execution_count": 18,
   "metadata": {
    "collapsed": false
   },
   "outputs": [
    {
     "name": "stdout",
     "output_type": "stream",
     "text": [
      "tensor_x is : [[0.9959587]\n",
      " [0.2255538]]\n",
      "the area is: [[253.86844]\n",
      " [130.70383]]\n",
      "infer results:  [[1744.8499 ]\n",
      " [ 868.53705]]\n"
     ]
    }
   ],
   "source": [
    "# 预测\r\n",
    "infer_exe = fluid.Executor(place)\r\n",
    "inference_scope = fluid.core.Scope()\r\n",
    "\r\n",
    "with fluid.scope_guard(inference_scope):\r\n",
    "    [inference_program, feed_target_names, fetch_targets\r\n",
    "     ] = fluid.io.load_inference_model(params_dirname, infer_exe) # 载入预训练模型\r\n",
    "\r\n",
    "\r\n",
    "    batch_size = 2\r\n",
    "    tensor_x = np.random.uniform(0, 1, [batch_size, 1]).astype(\"float32\")\r\n",
    "    \r\n",
    "    print(\"tensor_x is :\" ,tensor_x )\r\n",
    "    results = infer_exe.run(\r\n",
    "        inference_program,\r\n",
    "        feed={feed_target_names[0]: tensor_x},\r\n",
    "        fetch_list=fetch_targets) # 进行预测\r\n",
    "    raw_x = tensor_x*(maximums[0]-minimums[0])+avgs[i]\r\n",
    "    print(\"the area is:\",raw_x)\r\n",
    "    print(\"infer results: \", results[0])"
   ]
  },
  {
   "cell_type": "code",
   "execution_count": 19,
   "metadata": {
    "collapsed": false
   },
   "outputs": [
    {
     "name": "stdout",
     "output_type": "stream",
     "text": [
      "7.114972 -61.416992\n"
     ]
    }
   ],
   "source": [
    "# 已知两点求直线方程\r\n",
    "a = (results[0][0][0] - results[0][1][0]) / (raw_x[0][0]-raw_x[1][0])\r\n",
    "b = (results[0][0][0] - a * raw_x[0][0])\r\n",
    "\r\n",
    "print(a,b)"
   ]
  },
  {
   "cell_type": "code",
   "execution_count": 20,
   "metadata": {
    "collapsed": false
   },
   "outputs": [
    {
     "data": {
      "image/png": "[encoded data removed]",
      "text/plain": [
       "<Figure size 432x288 with 1 Axes>"
      ]
     },
     "metadata": {},
     "output_type": "display_data"
    }
   ],
   "source": [
    "# 绘制图形\r\n",
    "import numpy as np\r\n",
    "import matplotlib.pyplot as plt\r\n",
    "\r\n",
    "def plot_data(data):\r\n",
    "    x = data[:,0]\r\n",
    "    y = data[:,1]\r\n",
    "    y_predict = x*a + b\r\n",
    "    plt.scatter(x,y,marker='.',c='r',label='True')\r\n",
    "    plt.title('House Price Distributions')\r\n",
    "    plt.xlabel('House Area ')\r\n",
    "    plt.ylabel('House Price ')\r\n",
    "    plt.xlim(0,250)\r\n",
    "    plt.ylim(0,2500)\r\n",
    "    predict = plt.plot(x,y_predict,label='Predict')\r\n",
    "    plt.legend(loc='upper left')\r\n",
    "    plt.savefig('result1.png')\r\n",
    "    plt.show()\r\n",
    "\r\n",
    "### START CODE HERE ### (≈ 2 lines of code)    \r\n",
    "data = np.loadtxt('./datasets/data.txt',delimiter = ',')\r\n",
    "plot_data(data)\r\n",
    "### START CODE HERE ### (≈ 2 lines of code)"
   ]
  },
  {
   "cell_type": "code",
   "execution_count": null,
   "metadata": {
    "collapsed": false
   },
   "outputs": [],
   "source": []
  }
 ],
 "metadata": {
  "kernelspec": {
   "display_name": "PaddlePaddle 1.5.0 (Python 3.5)",
   "language": "python",
   "name": "py35-paddle1.2.0"
  },
  "language_info": {
   "codemirror_mode": {
    "name": "ipython",
    "version": 3
   },
   "file_extension": ".py",
   "mimetype": "text/x-python",
   "name": "python",
   "nbconvert_exporter": "python",
   "pygments_lexer": "ipython3",
   "version": "3.5.5"
  }
 },
 "nbformat": 4,
 "nbformat_minor": 1
}
